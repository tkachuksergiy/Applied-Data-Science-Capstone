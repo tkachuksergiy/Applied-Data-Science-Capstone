{
 "cells": [
  {
   "cell_type": "markdown",
   "metadata": {},
   "source": [
    "# IBM Data Science Capstone Project\n",
    "---\n",
    "**Author: *Sergiy Tkachuk***  \n",
    "**Date:** 15 Dec 2018"
   ]
  },
  {
   "cell_type": "markdown",
   "metadata": {},
   "source": [
    "---\n",
    "# Coffee Shops & Bars"
   ]
  },
  {
   "cell_type": "markdown",
   "metadata": {},
   "source": [
    "**1. A description of the problem and a discussion of the background**  \n",
    "\n",
    "Exploration of Coffee Shops and Bars in the neigborhood of Ivy League universities.  \n",
    "With the assumption that most of the visitors are students, this study will allow us to understand better preferences of the students of the best US schools.  \n",
    "I will also try to validate these preferences with other locations that these students visited and left comments on.  \n",
    "Final insights could potentialy help owners of the coffee shops/bars to improve e.g. quality of service and customer satisfaction.  \n",
    "\n",
    "**2. A description of the data and how it will be used to solve the problem**  \n",
    "For this exercise I am going to use data from [Ivy League Wikipedia page](https://en.wikipedia.org/wiki/Ivy_League) for some basic information about universities - specificaly the table with the members of the League.  \n",
    "This data set will be used mainly to get precise location information using _geopy_ library. I will also try to use it in the end of the study to investigate possible correlation between visitors and enrollment/academic staff.  \n",
    "\n",
    "Obviously I am going to use Forsquare API to retrieve the data about nearby locations, reviews, visitors etc.  \n",
    "Foursquare data will be used to explore the locations, find venues and describe them. After data gethering part I will extract as many features as I can.  \n",
    "Then I am going to cluster the venues per university and explore the similarity.  \n",
    "As mentioned before, I will check other venues visited by students to compare the preferences and draw final conclusions."
   ]
  }
 ],
 "metadata": {
  "kernelspec": {
   "display_name": "Python 3",
   "language": "python",
   "name": "python3"
  },
  "language_info": {
   "codemirror_mode": {
    "name": "ipython",
    "version": 3
   },
   "file_extension": ".py",
   "mimetype": "text/x-python",
   "name": "python",
   "nbconvert_exporter": "python",
   "pygments_lexer": "ipython3",
   "version": "3.6.6"
  }
 },
 "nbformat": 4,
 "nbformat_minor": 2
}
